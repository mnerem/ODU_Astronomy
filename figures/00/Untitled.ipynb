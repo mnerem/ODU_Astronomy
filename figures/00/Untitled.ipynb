{
 "cells": [
  {
   "cell_type": "code",
   "execution_count": 68,
   "id": "7c90caaf-ec3b-475d-9989-20c70899c41a",
   "metadata": {},
   "outputs": [],
   "source": [
    "import numpy as np\n",
    "import plotly.express as px\n",
    "import plotly.graph_objects as go\n",
    "\n",
    "def log2(x):\n",
    "    return np.log(x)/np.log(2)\n",
    "\n",
    "x1=np.array([1e-6,2,4,6,8)\n",
    "x2=np.linspace(1e-6,10,1000)\n",
    "\n",
    "fig1=px.line(x=x2,y=log2(x2))\n",
    "fig2=px.scatter(x=x1,y=log2(x1),color_discrete_sequence=['red'])\n",
    "fig3=go.Figure(data=fig1.data+fig2.data)\n",
    "fig3.update_xaxes(range=[0,10])\n",
    "fig3.update_yaxes(range=[-4,4])\n",
    "fig3.show()"
   ]
  },
  {
   "cell_type": "code",
   "execution_count": null,
   "id": "e57ff340-659a-4b24-9019-7c26a41ac213",
   "metadata": {},
   "outputs": [],
   "source": [
    "\n"
   ]
  }
 ],
 "metadata": {
  "kernelspec": {
   "display_name": "Python 3 (ipykernel)",
   "language": "python",
   "name": "python3"
  },
  "language_info": {
   "codemirror_mode": {
    "name": "ipython",
    "version": 3
   },
   "file_extension": ".py",
   "mimetype": "text/x-python",
   "name": "python",
   "nbconvert_exporter": "python",
   "pygments_lexer": "ipython3",
   "version": "3.8.10"
  }
 },
 "nbformat": 4,
 "nbformat_minor": 5
}
