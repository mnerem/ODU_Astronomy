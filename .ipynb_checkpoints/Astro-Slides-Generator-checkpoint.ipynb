{
 "cells": [
  {
   "cell_type": "markdown",
   "id": "4c15e81f-8558-415b-b268-344274b91886",
   "metadata": {},
   "source": [
    "# Create Slides per Chapter\n",
    "The goal of this notebook is to process table of contents from the openstax astronomy and generate reveal js presentations of each chapter. Each chapter will be its own html page and the subsections of the book will be revealjs sections"
   ]
  },
  {
   "cell_type": "code",
   "execution_count": 1,
   "id": "df06ff14-7694-41bd-8d11-93f62dfaf6e1",
   "metadata": {
    "tags": []
   },
   "outputs": [],
   "source": [
    "import requests\n",
    "from bs4 import BeautifulSoup\n",
    "import os"
   ]
  },
  {
   "cell_type": "markdown",
   "id": "2924e4f9-9760-4956-9b6f-0563251393ed",
   "metadata": {},
   "source": [
    "## Read the website for links"
   ]
  },
  {
   "cell_type": "code",
   "execution_count": 2,
   "id": "47ca3147-5757-4283-a0a9-08fcb53e09b2",
   "metadata": {
    "tags": []
   },
   "outputs": [],
   "source": [
    "url=\"https://openstax.org/books/astronomy-2e/pages/1-introduction\"\n",
    "page=requests.get(url)\n",
    "sp=BeautifulSoup(page.text,'html.parser')"
   ]
  },
  {
   "cell_type": "code",
   "execution_count": 3,
   "id": "5244d3e8-fb48-471f-9a2d-4a0491090170",
   "metadata": {
    "tags": []
   },
   "outputs": [],
   "source": [
    "# Make list of string of section numbers and corresponding website link to text\n",
    "links=[]\n",
    "for ii in sp.find_all('a'):\n",
    "    if '.' in ii.getText() and '\\n' not in ii.getText() and 'Figure' not in ii.getText() and 'http' not in ii.getText() and 'Creative' not in ii.getText():\n",
    "        links.append([ii.getText(),'https://openstax.org/books/astronomy-2e/pages/'+ii.get('href')])"
   ]
  },
  {
   "cell_type": "code",
   "execution_count": 4,
   "id": "dba2ba50-d1b0-428f-af02-d03d3ea6b570",
   "metadata": {},
   "outputs": [],
   "source": [
    "quarto_revealjs_formatting_str='''\n",
    "---\n",
    "title: \"TITLE\"\n",
    "format:\n",
    "  revealjs:\n",
    "    logo: \"Physics Department Logo2.jpg\"\n",
    "    css: logo.css\n",
    "    menu:\n",
    "      side: left\n",
    "      width: half\n",
    "      numbers: true\n",
    "      markers: true\n",
    "    mouseWheel: true\n",
    "    slide-number: c/t \n",
    "    show-slide-number: all\n",
    "    preview-links: true\n",
    "    chalkboard: true\n",
    "    navigation-mode: grid\n",
    "    controls: true\n",
    "    controls-tutorial: true\n",
    "    transition: convex\n",
    "    pointer:\n",
    "      pointerSize: 35\n",
    "      color: '#00a0e0'\n",
    "revealjs-plugins:\n",
    "  - pointer\n",
    "---\n",
    "\n",
    "'''"
   ]
  },
  {
   "cell_type": "code",
   "execution_count": 5,
   "id": "64f4c44c-88e5-4b5c-b16b-1e649f6d6f95",
   "metadata": {
    "tags": []
   },
   "outputs": [
    {
     "data": {
      "text/plain": [
       "'\\n---\\nrevealjs formatting text\\n---\\n\\n# [Section 1.1](link to section 1.1)\\n\\n## Subsection slide\\n\\n# [Section 1.2](link to section 1.2)\\n\\n## Subsection Slide\\n'"
      ]
     },
     "execution_count": 5,
     "metadata": {},
     "output_type": "execute_result"
    }
   ],
   "source": [
    "# Create quarto markdown files\n",
    "'''\n",
    "---\n",
    "revealjs formatting text\n",
    "---\n",
    "\n",
    "# [Section 1.1](link to section 1.1)\n",
    "\n",
    "## Subsection slide\n",
    "\n",
    "# [Section 1.2](link to section 1.2)\n",
    "\n",
    "## Subsection Slide\n",
    "'''"
   ]
  },
  {
   "cell_type": "code",
   "execution_count": 6,
   "id": "30b3ff03-bafb-4b54-9d08-6ab69947a3f7",
   "metadata": {
    "tags": []
   },
   "outputs": [
    {
     "ename": "NameError",
     "evalue": "name 'chapt_title' is not defined",
     "output_type": "error",
     "traceback": [
      "\u001b[0;31m---------------------------------------------------------------------------\u001b[0m",
      "\u001b[0;31mNameError\u001b[0m                                 Traceback (most recent call last)",
      "Input \u001b[0;32mIn [6]\u001b[0m, in \u001b[0;36m<cell line: 2>\u001b[0;34m()\u001b[0m\n\u001b[1;32m      1\u001b[0m \u001b[38;5;66;03m# Make RevealJS pages\u001b[39;00m\n\u001b[0;32m----> 2\u001b[0m \u001b[38;5;28;01mfor\u001b[39;00m ii \u001b[38;5;129;01min\u001b[39;00m \u001b[38;5;28mrange\u001b[39m(\u001b[38;5;28mlen\u001b[39m(\u001b[43mchapt_title\u001b[49m)):\n\u001b[1;32m      3\u001b[0m     qmd_txt\u001b[38;5;241m=\u001b[39mquarto_revealjs_formatting_str\n\u001b[1;32m      4\u001b[0m     qmd_txt\u001b[38;5;241m=\u001b[39mqmd_txt\u001b[38;5;241m.\u001b[39mreplace(\u001b[38;5;124m'\u001b[39m\u001b[38;5;124mTITLE\u001b[39m\u001b[38;5;124m'\u001b[39m,chapt_title[ii]\u001b[38;5;241m.\u001b[39mreplace(\u001b[38;5;124m'\u001b[39m\u001b[38;5;124m_\u001b[39m\u001b[38;5;124m'\u001b[39m,\u001b[38;5;124m'\u001b[39m\u001b[38;5;124m \u001b[39m\u001b[38;5;124m'\u001b[39m)\u001b[38;5;241m.\u001b[39mreplace(\u001b[38;5;124m'\u001b[39m\u001b[38;5;124m-\u001b[39m\u001b[38;5;124m'\u001b[39m,\u001b[38;5;124m'\u001b[39m\u001b[38;5;124m: \u001b[39m\u001b[38;5;124m'\u001b[39m))\n",
      "\u001b[0;31mNameError\u001b[0m: name 'chapt_title' is not defined"
     ]
    }
   ],
   "source": [
    "# Make RevealJS pages\n",
    "for ii in range(len(chapt_title)):\n",
    "    qmd_txt=quarto_revealjs_formatting_str\n",
    "    qmd_txt=qmd_txt.replace('TITLE',chapt_title[ii].replace('_',' ').replace('-',': '))\n",
    "    for jj in links:\n",
    "        if int(float(jj[0][0:2]))==ii:\n",
    "            qmd_txt=qmd_txt+'\\n# ['+jj[0]+']('+jj[1]+')\\n\\n## Subsection \\n'\n",
    "    qmd_txt=qmd_txt+'\\n# Summary'\n",
    "    # create directories for chapters if they do not already exist\n",
    "    if not os.path.exists('figures/%02d'%ii):\n",
    "        os.mkdir('figures/%02d'%ii)\n",
    "    # write qmd_txt string to file\n",
    "    #filename=chapt_title[ii]+'.qmd'\n",
    "    #file=open(filename,'w')\n",
    "    #file.write(qmd_txt)\n",
    "    #file.close()\n",
    "print('Only run if you want to overwrite the qmd files!')"
   ]
  },
  {
   "cell_type": "code",
   "execution_count": 156,
   "id": "1a3f4f8c-00c4-4dda-8374-1e8c5ee52aec",
   "metadata": {
    "tags": []
   },
   "outputs": [
    {
     "data": {
      "text/plain": [
       "'01'"
      ]
     },
     "execution_count": 156,
     "metadata": {},
     "output_type": "execute_result"
    }
   ],
   "source": [
    "'%02d'%1"
   ]
  }
 ],
 "metadata": {
  "kernelspec": {
   "display_name": "Python 3 (ipykernel)",
   "language": "python",
   "name": "python3"
  },
  "language_info": {
   "codemirror_mode": {
    "name": "ipython",
    "version": 3
   },
   "file_extension": ".py",
   "mimetype": "text/x-python",
   "name": "python",
   "nbconvert_exporter": "python",
   "pygments_lexer": "ipython3",
   "version": "3.8.10"
  }
 },
 "nbformat": 4,
 "nbformat_minor": 5
}
